{
 "cells": [
  {
   "cell_type": "markdown",
   "metadata": {},
   "source": [
    "# Cleaning Melbourne sensor footfall data \n",
    "This script cleans the footfall data for Melbourne"
   ]
  },
  {
   "cell_type": "markdown",
   "metadata": {},
   "source": [
    "#### Code initialisation"
   ]
  },
  {
   "cell_type": "code",
   "execution_count": 1,
   "metadata": {
    "ExecuteTime": {
     "end_time": "2020-05-20T09:29:55.509799Z",
     "start_time": "2020-05-20T09:29:52.577608Z"
    }
   },
   "outputs": [],
   "source": [
    "import pandas as pd\n",
    "import numpy as np\n",
    "import seaborn as sns\n",
    "import os\n",
    "from datetime import date, datetime"
   ]
  },
  {
   "cell_type": "markdown",
   "metadata": {},
   "source": [
    "#### Import pedestrian count data"
   ]
  },
  {
   "cell_type": "code",
   "execution_count": 13,
   "metadata": {},
   "outputs": [],
   "source": [
    "sensor_counts = pd.read_csv('/nfs/a319/gy17m2a/Project/footfall/footfall/FootfallScripts/MelbourneAnalysis/Data/Data/FootfallData/Pedestrian_Counting_System_Monthly_counts_per_hour_may_2009_to_14_dec_2022.csv')\n",
    "sensor_locations = pd.read_csv('../../Data/Data/FootfallData/melbourne_locations.csv')"
   ]
  },
  {
   "cell_type": "code",
   "execution_count": 14,
   "metadata": {},
   "outputs": [
    {
     "data": {
      "text/plain": [
       "82"
      ]
     },
     "execution_count": 14,
     "metadata": {},
     "output_type": "execute_result"
    }
   ],
   "source": [
    "len(sensor_counts['sensor_id'].unique())"
   ]
  },
  {
   "cell_type": "markdown",
   "metadata": {},
   "source": [
    "#### Rename columns to all lowercase (to facilitate joining)"
   ]
  },
  {
   "cell_type": "code",
   "execution_count": 15,
   "metadata": {},
   "outputs": [],
   "source": [
    "sensor_counts.rename({'Date_Time': 'datetime', 'Year': 'year', 'Month':'month', 'Mdate': 'mdate', \n",
    "                      'Day': 'day', 'Time': 'time', 'Sensor_ID': 'sensor_id', 'Hourly_Counts': 'hourly_counts'}, \n",
    "                     axis = 1, inplace = True)"
   ]
  },
  {
   "cell_type": "markdown",
   "metadata": {},
   "source": [
    "#### Drop unneeded columns"
   ]
  },
  {
   "cell_type": "code",
   "execution_count": 17,
   "metadata": {},
   "outputs": [],
   "source": [
    "# sensor_counts.drop(['sensor_id'], axis = 1, inplace = True)\n",
    "sensor_locations.drop(['sensor_name', 'installation_date', 'status', 'note', 'direction_1',\n",
    "                      'direction_2'], axis = 1, inplace = True)"
   ]
  },
  {
   "cell_type": "markdown",
   "metadata": {},
   "source": [
    "#### Join two dataframes so location and count info in same place"
   ]
  },
  {
   "cell_type": "code",
   "execution_count": 18,
   "metadata": {},
   "outputs": [],
   "source": [
    "location_counts = pd.merge(sensor_locations, sensor_counts, on='sensor_id', how='inner')"
   ]
  },
  {
   "cell_type": "markdown",
   "metadata": {},
   "source": [
    "#### It could be useful to drop sensors that do not have as many recorded countsfor now leaving them in, but may drop in the future"
   ]
  },
  {
   "cell_type": "markdown",
   "metadata": {},
   "source": [
    "#### Properly format datetime column"
   ]
  },
  {
   "cell_type": "code",
   "execution_count": 19,
   "metadata": {},
   "outputs": [],
   "source": [
    "location_counts['datetime'] = pd.to_datetime(location_counts['datetime'], format = '%B %d, %Y %I:%M:%S %p')"
   ]
  },
  {
   "cell_type": "markdown",
   "metadata": {},
   "source": [
    "#### Order by datetime column"
   ]
  },
  {
   "cell_type": "code",
   "execution_count": 20,
   "metadata": {},
   "outputs": [],
   "source": [
    "location_counts = location_counts.sort_values(by=['datetime'])\n",
    "location_counts.reset_index(inplace = True, drop = True)"
   ]
  },
  {
   "cell_type": "markdown",
   "metadata": {},
   "source": [
    "#### September, 2010 dates have problems:\n",
    "All dates have a timestamp of 00:00, presume they are in order of hour of day, for each day there are only 23 hours worth of data\n",
    "For now, in later stages just filter out 2010 data"
   ]
  },
  {
   "cell_type": "code",
   "execution_count": 21,
   "metadata": {},
   "outputs": [],
   "source": [
    "location_counts = location_counts[location_counts['year']>2010]"
   ]
  },
  {
   "cell_type": "markdown",
   "metadata": {},
   "source": [
    "### Clean and save data"
   ]
  },
  {
   "cell_type": "code",
   "execution_count": 22,
   "metadata": {},
   "outputs": [],
   "source": [
    "# location_counts.drop(['Latitude', 'Longitude', 'location'], axis = 1, inplace =True)\n",
    "# location_counts.rename({'day': 'weekday', 'mdate': 'day', 'time': 'hour'}, axis =1, inplace = True)\n",
    "\n",
    "# Change month to integers 1-12\n",
    "months = {'January': 1, 'February': 2, 'March': 3, 'April': 4, 'May': 5, 'June':6, 'July': 7, 'August': 8,\n",
    "         'September': 9, 'October': 10, 'November': 11, 'December': 12}\n",
    "\n",
    "location_counts.month = location_counts.month.map(months)"
   ]
  },
  {
   "cell_type": "code",
   "execution_count": 23,
   "metadata": {},
   "outputs": [],
   "source": [
    "just_some_sensors = location_counts[location_counts['sensor_id'].isin([2,6,8,9,10,11,18])]\n",
    "# just_some_sensors.to_csv(\"../../Cleaned_data/validsensors.csv\",index=False)\n",
    "# location_counts.to_csv(\"../../Cleaned_data/allsensors.csv\",index=False)"
   ]
  },
  {
   "cell_type": "code",
   "execution_count": 27,
   "metadata": {},
   "outputs": [],
   "source": [
    "# Get data for just one sensor\n",
    "one_sensor =  location_counts[location_counts.sensor_id == 1]\n",
    "one_year = one_sensor[one_sensor.year==2010]\n",
    "# Set the datetime as the index\n",
    "one_sensor.set_index('datetime', inplace = True)\n",
    "duplicates = one_sensor[one_sensor.index.duplicated()]\n",
    "for day in duplicates.mdate.unique():\n",
    "    one_day = duplicates[duplicates.mdate == day]\n",
    "    print(day, len(one_day))"
   ]
  },
  {
   "cell_type": "code",
   "execution_count": 28,
   "metadata": {},
   "outputs": [
    {
     "data": {
      "text/html": [
       "<div>\n",
       "<style scoped>\n",
       "    .dataframe tbody tr th:only-of-type {\n",
       "        vertical-align: middle;\n",
       "    }\n",
       "\n",
       "    .dataframe tbody tr th {\n",
       "        vertical-align: top;\n",
       "    }\n",
       "\n",
       "    .dataframe thead th {\n",
       "        text-align: right;\n",
       "    }\n",
       "</style>\n",
       "<table border=\"1\" class=\"dataframe\">\n",
       "  <thead>\n",
       "    <tr style=\"text-align: right;\">\n",
       "      <th></th>\n",
       "      <th>sensor_id</th>\n",
       "      <th>Name</th>\n",
       "      <th>Latitude</th>\n",
       "      <th>Longitude</th>\n",
       "      <th>location</th>\n",
       "      <th>Start</th>\n",
       "      <th>End</th>\n",
       "      <th>Values_per_sensor</th>\n",
       "      <th>Cluster_num_5clusters</th>\n",
       "      <th>ID</th>\n",
       "      <th>year</th>\n",
       "      <th>month</th>\n",
       "      <th>mdate</th>\n",
       "      <th>day</th>\n",
       "      <th>time</th>\n",
       "      <th>Sensor_Name</th>\n",
       "      <th>hourly_counts</th>\n",
       "    </tr>\n",
       "    <tr>\n",
       "      <th>datetime</th>\n",
       "      <th></th>\n",
       "      <th></th>\n",
       "      <th></th>\n",
       "      <th></th>\n",
       "      <th></th>\n",
       "      <th></th>\n",
       "      <th></th>\n",
       "      <th></th>\n",
       "      <th></th>\n",
       "      <th></th>\n",
       "      <th></th>\n",
       "      <th></th>\n",
       "      <th></th>\n",
       "      <th></th>\n",
       "      <th></th>\n",
       "      <th></th>\n",
       "      <th></th>\n",
       "    </tr>\n",
       "  </thead>\n",
       "  <tbody>\n",
       "    <tr>\n",
       "      <th>2011-12-20 00:00:00</th>\n",
       "      <td>1</td>\n",
       "      <td>Bourke Street Mall (North)</td>\n",
       "      <td>-37.813494</td>\n",
       "      <td>144.965153</td>\n",
       "      <td>(-37.8134944, 144.96515324)</td>\n",
       "      <td>2011.0</td>\n",
       "      <td>2022.0</td>\n",
       "      <td>92659.0</td>\n",
       "      <td>1</td>\n",
       "      <td>398257</td>\n",
       "      <td>2011</td>\n",
       "      <td>12</td>\n",
       "      <td>20</td>\n",
       "      <td>Tuesday</td>\n",
       "      <td>0</td>\n",
       "      <td>Bourke Street Mall (North)</td>\n",
       "      <td>83</td>\n",
       "    </tr>\n",
       "    <tr>\n",
       "      <th>2011-12-20 01:00:00</th>\n",
       "      <td>1</td>\n",
       "      <td>Bourke Street Mall (North)</td>\n",
       "      <td>-37.813494</td>\n",
       "      <td>144.965153</td>\n",
       "      <td>(-37.8134944, 144.96515324)</td>\n",
       "      <td>2011.0</td>\n",
       "      <td>2022.0</td>\n",
       "      <td>92659.0</td>\n",
       "      <td>1</td>\n",
       "      <td>398275</td>\n",
       "      <td>2011</td>\n",
       "      <td>12</td>\n",
       "      <td>20</td>\n",
       "      <td>Tuesday</td>\n",
       "      <td>1</td>\n",
       "      <td>Bourke Street Mall (North)</td>\n",
       "      <td>30</td>\n",
       "    </tr>\n",
       "    <tr>\n",
       "      <th>2011-12-20 02:00:00</th>\n",
       "      <td>1</td>\n",
       "      <td>Bourke Street Mall (North)</td>\n",
       "      <td>-37.813494</td>\n",
       "      <td>144.965153</td>\n",
       "      <td>(-37.8134944, 144.96515324)</td>\n",
       "      <td>2011.0</td>\n",
       "      <td>2022.0</td>\n",
       "      <td>92659.0</td>\n",
       "      <td>1</td>\n",
       "      <td>398293</td>\n",
       "      <td>2011</td>\n",
       "      <td>12</td>\n",
       "      <td>20</td>\n",
       "      <td>Tuesday</td>\n",
       "      <td>2</td>\n",
       "      <td>Bourke Street Mall (North)</td>\n",
       "      <td>28</td>\n",
       "    </tr>\n",
       "    <tr>\n",
       "      <th>2011-12-20 03:00:00</th>\n",
       "      <td>1</td>\n",
       "      <td>Bourke Street Mall (North)</td>\n",
       "      <td>-37.813494</td>\n",
       "      <td>144.965153</td>\n",
       "      <td>(-37.8134944, 144.96515324)</td>\n",
       "      <td>2011.0</td>\n",
       "      <td>2022.0</td>\n",
       "      <td>92659.0</td>\n",
       "      <td>1</td>\n",
       "      <td>398311</td>\n",
       "      <td>2011</td>\n",
       "      <td>12</td>\n",
       "      <td>20</td>\n",
       "      <td>Tuesday</td>\n",
       "      <td>3</td>\n",
       "      <td>Bourke Street Mall (North)</td>\n",
       "      <td>11</td>\n",
       "    </tr>\n",
       "    <tr>\n",
       "      <th>2011-12-20 04:00:00</th>\n",
       "      <td>1</td>\n",
       "      <td>Bourke Street Mall (North)</td>\n",
       "      <td>-37.813494</td>\n",
       "      <td>144.965153</td>\n",
       "      <td>(-37.8134944, 144.96515324)</td>\n",
       "      <td>2011.0</td>\n",
       "      <td>2022.0</td>\n",
       "      <td>92659.0</td>\n",
       "      <td>1</td>\n",
       "      <td>398329</td>\n",
       "      <td>2011</td>\n",
       "      <td>12</td>\n",
       "      <td>20</td>\n",
       "      <td>Tuesday</td>\n",
       "      <td>4</td>\n",
       "      <td>Bourke Street Mall (North)</td>\n",
       "      <td>12</td>\n",
       "    </tr>\n",
       "    <tr>\n",
       "      <th>...</th>\n",
       "      <td>...</td>\n",
       "      <td>...</td>\n",
       "      <td>...</td>\n",
       "      <td>...</td>\n",
       "      <td>...</td>\n",
       "      <td>...</td>\n",
       "      <td>...</td>\n",
       "      <td>...</td>\n",
       "      <td>...</td>\n",
       "      <td>...</td>\n",
       "      <td>...</td>\n",
       "      <td>...</td>\n",
       "      <td>...</td>\n",
       "      <td>...</td>\n",
       "      <td>...</td>\n",
       "      <td>...</td>\n",
       "      <td>...</td>\n",
       "    </tr>\n",
       "    <tr>\n",
       "      <th>2022-10-31 19:00:00</th>\n",
       "      <td>1</td>\n",
       "      <td>Bourke Street Mall (North)</td>\n",
       "      <td>-37.813494</td>\n",
       "      <td>144.965153</td>\n",
       "      <td>(-37.8134944, 144.96515324)</td>\n",
       "      <td>2011.0</td>\n",
       "      <td>2022.0</td>\n",
       "      <td>92659.0</td>\n",
       "      <td>1</td>\n",
       "      <td>4522024</td>\n",
       "      <td>2022</td>\n",
       "      <td>10</td>\n",
       "      <td>31</td>\n",
       "      <td>Monday</td>\n",
       "      <td>19</td>\n",
       "      <td>Bourke Street Mall (North)</td>\n",
       "      <td>978</td>\n",
       "    </tr>\n",
       "    <tr>\n",
       "      <th>2022-10-31 20:00:00</th>\n",
       "      <td>1</td>\n",
       "      <td>Bourke Street Mall (North)</td>\n",
       "      <td>-37.813494</td>\n",
       "      <td>144.965153</td>\n",
       "      <td>(-37.8134944, 144.96515324)</td>\n",
       "      <td>2011.0</td>\n",
       "      <td>2022.0</td>\n",
       "      <td>92659.0</td>\n",
       "      <td>1</td>\n",
       "      <td>4522025</td>\n",
       "      <td>2022</td>\n",
       "      <td>10</td>\n",
       "      <td>31</td>\n",
       "      <td>Monday</td>\n",
       "      <td>20</td>\n",
       "      <td>Bourke Street Mall (North)</td>\n",
       "      <td>428</td>\n",
       "    </tr>\n",
       "    <tr>\n",
       "      <th>2022-10-31 21:00:00</th>\n",
       "      <td>1</td>\n",
       "      <td>Bourke Street Mall (North)</td>\n",
       "      <td>-37.813494</td>\n",
       "      <td>144.965153</td>\n",
       "      <td>(-37.8134944, 144.96515324)</td>\n",
       "      <td>2011.0</td>\n",
       "      <td>2022.0</td>\n",
       "      <td>92659.0</td>\n",
       "      <td>1</td>\n",
       "      <td>4522026</td>\n",
       "      <td>2022</td>\n",
       "      <td>10</td>\n",
       "      <td>31</td>\n",
       "      <td>Monday</td>\n",
       "      <td>21</td>\n",
       "      <td>Bourke Street Mall (North)</td>\n",
       "      <td>338</td>\n",
       "    </tr>\n",
       "    <tr>\n",
       "      <th>2022-10-31 22:00:00</th>\n",
       "      <td>1</td>\n",
       "      <td>Bourke Street Mall (North)</td>\n",
       "      <td>-37.813494</td>\n",
       "      <td>144.965153</td>\n",
       "      <td>(-37.8134944, 144.96515324)</td>\n",
       "      <td>2011.0</td>\n",
       "      <td>2022.0</td>\n",
       "      <td>92659.0</td>\n",
       "      <td>1</td>\n",
       "      <td>4522027</td>\n",
       "      <td>2022</td>\n",
       "      <td>10</td>\n",
       "      <td>31</td>\n",
       "      <td>Monday</td>\n",
       "      <td>22</td>\n",
       "      <td>Bourke Street Mall (North)</td>\n",
       "      <td>211</td>\n",
       "    </tr>\n",
       "    <tr>\n",
       "      <th>2022-10-31 23:00:00</th>\n",
       "      <td>1</td>\n",
       "      <td>Bourke Street Mall (North)</td>\n",
       "      <td>-37.813494</td>\n",
       "      <td>144.965153</td>\n",
       "      <td>(-37.8134944, 144.96515324)</td>\n",
       "      <td>2011.0</td>\n",
       "      <td>2022.0</td>\n",
       "      <td>92659.0</td>\n",
       "      <td>1</td>\n",
       "      <td>4522028</td>\n",
       "      <td>2022</td>\n",
       "      <td>10</td>\n",
       "      <td>31</td>\n",
       "      <td>Monday</td>\n",
       "      <td>23</td>\n",
       "      <td>Bourke Street Mall (North)</td>\n",
       "      <td>158</td>\n",
       "    </tr>\n",
       "  </tbody>\n",
       "</table>\n",
       "<p>92659 rows × 17 columns</p>\n",
       "</div>"
      ],
      "text/plain": [
       "                     sensor_id                        Name   Latitude  \\\n",
       "datetime                                                                \n",
       "2011-12-20 00:00:00          1  Bourke Street Mall (North) -37.813494   \n",
       "2011-12-20 01:00:00          1  Bourke Street Mall (North) -37.813494   \n",
       "2011-12-20 02:00:00          1  Bourke Street Mall (North) -37.813494   \n",
       "2011-12-20 03:00:00          1  Bourke Street Mall (North) -37.813494   \n",
       "2011-12-20 04:00:00          1  Bourke Street Mall (North) -37.813494   \n",
       "...                        ...                         ...        ...   \n",
       "2022-10-31 19:00:00          1  Bourke Street Mall (North) -37.813494   \n",
       "2022-10-31 20:00:00          1  Bourke Street Mall (North) -37.813494   \n",
       "2022-10-31 21:00:00          1  Bourke Street Mall (North) -37.813494   \n",
       "2022-10-31 22:00:00          1  Bourke Street Mall (North) -37.813494   \n",
       "2022-10-31 23:00:00          1  Bourke Street Mall (North) -37.813494   \n",
       "\n",
       "                      Longitude                     location   Start     End  \\\n",
       "datetime                                                                       \n",
       "2011-12-20 00:00:00  144.965153  (-37.8134944, 144.96515324)  2011.0  2022.0   \n",
       "2011-12-20 01:00:00  144.965153  (-37.8134944, 144.96515324)  2011.0  2022.0   \n",
       "2011-12-20 02:00:00  144.965153  (-37.8134944, 144.96515324)  2011.0  2022.0   \n",
       "2011-12-20 03:00:00  144.965153  (-37.8134944, 144.96515324)  2011.0  2022.0   \n",
       "2011-12-20 04:00:00  144.965153  (-37.8134944, 144.96515324)  2011.0  2022.0   \n",
       "...                         ...                          ...     ...     ...   \n",
       "2022-10-31 19:00:00  144.965153  (-37.8134944, 144.96515324)  2011.0  2022.0   \n",
       "2022-10-31 20:00:00  144.965153  (-37.8134944, 144.96515324)  2011.0  2022.0   \n",
       "2022-10-31 21:00:00  144.965153  (-37.8134944, 144.96515324)  2011.0  2022.0   \n",
       "2022-10-31 22:00:00  144.965153  (-37.8134944, 144.96515324)  2011.0  2022.0   \n",
       "2022-10-31 23:00:00  144.965153  (-37.8134944, 144.96515324)  2011.0  2022.0   \n",
       "\n",
       "                     Values_per_sensor  Cluster_num_5clusters       ID  year  \\\n",
       "datetime                                                                       \n",
       "2011-12-20 00:00:00            92659.0                      1   398257  2011   \n",
       "2011-12-20 01:00:00            92659.0                      1   398275  2011   \n",
       "2011-12-20 02:00:00            92659.0                      1   398293  2011   \n",
       "2011-12-20 03:00:00            92659.0                      1   398311  2011   \n",
       "2011-12-20 04:00:00            92659.0                      1   398329  2011   \n",
       "...                                ...                    ...      ...   ...   \n",
       "2022-10-31 19:00:00            92659.0                      1  4522024  2022   \n",
       "2022-10-31 20:00:00            92659.0                      1  4522025  2022   \n",
       "2022-10-31 21:00:00            92659.0                      1  4522026  2022   \n",
       "2022-10-31 22:00:00            92659.0                      1  4522027  2022   \n",
       "2022-10-31 23:00:00            92659.0                      1  4522028  2022   \n",
       "\n",
       "                     month  mdate      day  time                 Sensor_Name  \\\n",
       "datetime                                                                       \n",
       "2011-12-20 00:00:00     12     20  Tuesday     0  Bourke Street Mall (North)   \n",
       "2011-12-20 01:00:00     12     20  Tuesday     1  Bourke Street Mall (North)   \n",
       "2011-12-20 02:00:00     12     20  Tuesday     2  Bourke Street Mall (North)   \n",
       "2011-12-20 03:00:00     12     20  Tuesday     3  Bourke Street Mall (North)   \n",
       "2011-12-20 04:00:00     12     20  Tuesday     4  Bourke Street Mall (North)   \n",
       "...                    ...    ...      ...   ...                         ...   \n",
       "2022-10-31 19:00:00     10     31   Monday    19  Bourke Street Mall (North)   \n",
       "2022-10-31 20:00:00     10     31   Monday    20  Bourke Street Mall (North)   \n",
       "2022-10-31 21:00:00     10     31   Monday    21  Bourke Street Mall (North)   \n",
       "2022-10-31 22:00:00     10     31   Monday    22  Bourke Street Mall (North)   \n",
       "2022-10-31 23:00:00     10     31   Monday    23  Bourke Street Mall (North)   \n",
       "\n",
       "                     hourly_counts  \n",
       "datetime                            \n",
       "2011-12-20 00:00:00             83  \n",
       "2011-12-20 01:00:00             30  \n",
       "2011-12-20 02:00:00             28  \n",
       "2011-12-20 03:00:00             11  \n",
       "2011-12-20 04:00:00             12  \n",
       "...                            ...  \n",
       "2022-10-31 19:00:00            978  \n",
       "2022-10-31 20:00:00            428  \n",
       "2022-10-31 21:00:00            338  \n",
       "2022-10-31 22:00:00            211  \n",
       "2022-10-31 23:00:00            158  \n",
       "\n",
       "[92659 rows x 17 columns]"
      ]
     },
     "execution_count": 28,
     "metadata": {},
     "output_type": "execute_result"
    }
   ],
   "source": [
    "one_sensor"
   ]
  }
 ],
 "metadata": {
  "hide_input": false,
  "kernelspec": {
   "display_name": "Python 3 (ipykernel)",
   "language": "python",
   "name": "python3"
  },
  "language_info": {
   "codemirror_mode": {
    "name": "ipython",
    "version": 3
   },
   "file_extension": ".py",
   "mimetype": "text/x-python",
   "name": "python",
   "nbconvert_exporter": "python",
   "pygments_lexer": "ipython3",
   "version": "3.7.15"
  }
 },
 "nbformat": 4,
 "nbformat_minor": 2
}
